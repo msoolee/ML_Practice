{
 "cells": [
  {
   "attachments": {},
   "cell_type": "markdown",
   "metadata": {},
   "source": [
    "# [SWCON25301] Machine Learning\n",
    "Teaching Assistant: Suyong Bahk (clapd10@khu.ac.kr), \n",
    "\n",
    "Professor: Hui Yong Kim (hykim.v@khu.ac.kr)"
   ]
  },
  {
   "cell_type": "markdown",
   "metadata": {},
   "source": [
    "---"
   ]
  },
  {
   "cell_type": "markdown",
   "metadata": {},
   "source": [
    "# P1:  Linear/Polynomial Regression Model (10점)\n",
    "\n",
    "### 학습목표\n",
    "- 실습에 필요한 데이터 준비, 개발, 학습, 검증, 시각화 과정을 이해한다.\n",
    "- Python, NumPy로 작성된 Linear Regression Model을 분석하고 이해한다.\n",
    "- Python, NumPy로 Polynomial Regression Model class를 직접 작성하고 분석한다.\n",
    "\n",
    "### 실습내용\n",
    "\n",
    "실습은 다음 순서로 진행됩니다.\n",
    "학생분들께서는 **<구현>** 과 **<작성>** 에 해당하는 부분을 수행해주시면 됩니다.\n",
    "\n",
    "- S1. Linear Regression Model 구현 및 분석\n",
    "    - 1) 패키지 import\n",
    "    - 2) 데이터셋 생성\n",
    "    - 3) Linear Regression Model 구현\n",
    "    - 4) 학습 및 결과 시각화\n",
    "\n",
    "<br>\n",
    "\n",
    "- S2. Polynomial Regression Model 구현 및 분석\n",
    "    - 1) Polynomial Regression Model 구현 **<구현>** \n",
    "    - 2) 학습 및 결과 시각화\n",
    "    - 3) Polynomial Regression Model 분석 **<구현>** \n",
    "\n",
    "<br>\n",
    "\n",
    "- S3. Discussion **<작성>**\n",
    "\n",
    "\n",
    "--- \n",
    "\n",
    "앞으로 대부분의 실습도 위와 같은 순서로 진행됩니다. 이번 실습을 통해 각 부분의 코드를 이해하고 다음 실습에 참고하도록 합니다.\n",
    "\n",
    "\n",
    "### 점수\n",
    "- 2-1) Polynomial regression model class 구현: **4점**\n",
    "- 2-3) Polynomial Regression Model 분석: **4점**\n",
    "- Discussion: **2점**  \n",
    "**- 단, 2-1) 하단의 답안 미 작성 시 과제 점수 감점이 있으므로 꼭 작성 후 제출하세요.** \n",
    "\n",
    "### 제출방법\n",
    "- .ipynb 파일과 함께 .html 파일 (File -> Download/export as -> HTML)도 함께 제출하세요. 하나만 제출할시 2점 감점이 있습니다.\n",
    "\n",
    "---"
   ]
  },
  {
   "cell_type": "markdown",
   "metadata": {},
   "source": [
    "## S1. Linear regression model 분석\n",
    "\n",
    "S1에서는 2차원 평면 상의 데이터에 대하여 해당 데이터를 잘 표현할 수 있는 선형 회귀 모델(Linear Regression Model)을 학습하고 평가합니다."
   ]
  },
  {
   "cell_type": "markdown",
   "metadata": {},
   "source": [
    "### 1-1) Import packages\n",
    "**수정하지 마세요.**"
   ]
  },
  {
   "cell_type": "code",
   "execution_count": 4,
   "metadata": {},
   "outputs": [],
   "source": [
    "from random import random as rand\n",
    "import random\n",
    "import numpy as np\n",
    "import matplotlib.pyplot as plt\n",
    "\n",
    "%matplotlib inline"
   ]
  },
  {
   "cell_type": "markdown",
   "metadata": {},
   "source": [
    "### 1-2) Loading the Dataset\n",
    "**수정하지 마세요.** \n",
    "\n",
    "학습과 테스트에 사용할 데이터를 생성합니다."
   ]
  },
  {
   "cell_type": "code",
   "execution_count": 5,
   "metadata": {},
   "outputs": [
    {
     "name": "stdout",
     "output_type": "stream",
     "text": [
      "100 100\n"
     ]
    }
   ],
   "source": [
    "# Random seed\n",
    "random.seed(1234)\n",
    "\n",
    "# Generate 2-dimensional data points\n",
    "X = [rand() * i * 0.5 - 20 for i in range(0, 100)]\n",
    "y = [x**3 * 0.002 - x**2 * 0.005 + x * 0.003 + rand() * 5 for x in X]\n",
    "print(len(X), len(y))"
   ]
  },
  {
   "cell_type": "markdown",
   "metadata": {},
   "source": [
    "Load 된 데이터셋을 모델 학습과 검증을 위해 Trainset과 Testset으로 랜덤 샘플링하여 나누고 데이터셋이 어떤 분포로 생겼는지 시각화하여 살펴봅니다."
   ]
  },
  {
   "cell_type": "code",
   "execution_count": 6,
   "metadata": {},
   "outputs": [],
   "source": [
    "# Data random shuffle\n",
    "idx = list(range(len(X)))\n",
    "random.shuffle(idx)\n",
    "\n",
    "# Split data for train/test\n",
    "X_train, X_test = [X[i] for i in idx[:80]], [X[i] for i in idx[80:]]\n",
    "y_train, y_test = [y[i] for i in idx[:80]], [y[i] for i in idx[80:]]"
   ]
  },
  {
   "cell_type": "code",
   "execution_count": 7,
   "metadata": {},
   "outputs": [
    {
     "data": {
      "image/png": "[encoded data removed]",
      "text/plain": [
       "<Figure size 640x480 with 1 Axes>"
      ]
     },
     "metadata": {},
     "output_type": "display_data"
    }
   ],
   "source": [
    "# 학습 데이터를 시각화하여 분포를 확인\n",
    "plt.scatter(\n",
    "    [i for idx, i in enumerate(X_train)],\n",
    "    [i for idx, i in enumerate(y_train)],\n",
    "    label=\"Train\",\n",
    "    marker=\"o\",\n",
    ")\n",
    "\n",
    "plt.scatter(\n",
    "    [i for idx, i in enumerate(X_test)],\n",
    "    [i for idx, i in enumerate(y_test)],\n",
    "    label=\"Test\",\n",
    "    marker=\"x\",\n",
    "    color=\"r\",\n",
    ")\n",
    "\n",
    "plt.title(\"Data points\")\n",
    "plt.xlabel(\"x\")\n",
    "plt.ylabel(\"y\")\n",
    "plt.ylim([-20, 20])\n",
    "plt.legend()\n",
    "plt.show()"
   ]
  },
  {
   "cell_type": "markdown",
   "metadata": {},
   "source": [
    "### 1-3) Linear Regression Model 구현\n",
    "\n",
    "**수정하지 마세요.** \n",
    "\n",
    "`Linear` class는 다음 함수들로 이루어져 있습니다.\n",
    "- `__init__` 생성자에서는 model의 weights와 bias를 초기화합니다.\n",
    "- `calc_loss_and_gradient`는 input과 output 사이의 MSE loss와 그 gradient를 계산합니다.\n",
    "- `shuffle_datasets`는 데이터셋을 섞는 역할을 합니다.\n",
    "- `forward`에서는 input을 model의 가중치를 이용해서 예측을 수행합니다.\n",
    "- `update_parameters`에서는 계산된 MSE loss와 그 gradient를 입력으로 받아 모델의 가중치를 업데이트 합니다.  \n",
    "(Tip : update_parameters는 딥러닝 라이브러리에서 backward pass로도 불립니다.)\n",
    "- `fit`에서는 model을 학습하는 과정으로 `forward`와 `update_parameters`를 차례로 반복하여 model의 가중치를 업데이트 합니다.\n",
    "- `predict`에서는 들어온 input data를 학습된 가중치를 이용하여 예측하고 결과를 반환합니다.\n"
   ]
  },
  {
   "cell_type": "code",
   "execution_count": 8,
   "metadata": {
    "editable": true,
    "slideshow": {
     "slide_type": ""
    },
    "tags": []
   },
   "outputs": [],
   "source": [
    "class Linear:\n",
    "    def __init__(self, batch_size, lr=1e-5):\n",
    "        # initialization with a numpy array type\n",
    "        self.weight = np.array(rand())\n",
    "        self.bias = 0  # initialization\n",
    "        self.lr = lr  # learning rate\n",
    "        self.batch_size = batch_size\n",
    "\n",
    "    def shuffle_datasets(self, a, b):\n",
    "        assert len(a) == len(b)\n",
    "        p = np.random.permutation(len(a))\n",
    "        return a[p], b[p]\n",
    "\n",
    "    def fit(self, x, y, epochs):\n",
    "        x_arr = np.array(x)\n",
    "        y_arr = np.array(y)\n",
    "        for e in range(epochs):  # epochs 만큼 학습\n",
    "            # shuffle dataset\n",
    "            x, y = self.shuffle_datasets(x_arr, y_arr)\n",
    "\n",
    "            # 배치 크기씩 data 분할\n",
    "            num_batches = len(x) // self.batch_size\n",
    "            remain = (\n",
    "                len(x) % self.batch_size\n",
    "            )  # batch size 크기의 배수가 아닌 나머지 training example 개수\n",
    "            x = x[remain:]  # remain을 제외한 training example만 사용\n",
    "            y = y[remain:]\n",
    "            x = np.array_split(x, num_batches)  # 배치 크기씩 데이터 분할\n",
    "            y = np.array_split(y, num_batches)\n",
    "\n",
    "            # 각 배치마다 파라미터 업데이트\n",
    "            for batch_x_y in zip(x, y):  # 배치 하나씩 학습\n",
    "                batch_x, batch_y = batch_x_y\n",
    "\n",
    "                pred = self.forward(batch_x)\n",
    "                loss, gradient_weight, gradient_bias = self.calc_loss_and_gradient(\n",
    "                    pred, batch_y, batch_x\n",
    "                )\n",
    "\n",
    "                # parameter update는 backward pass로도 불림\n",
    "                self.update_parameters(gradient_weight, gradient_bias)\n",
    "\n",
    "    def forward(self, x):\n",
    "        prediction = self.weight * x + self.bias  # linear regression 모델의 출력을 계산\n",
    "        return prediction\n",
    "\n",
    "    def calc_loss_and_gradient(self, pred, y, x):\n",
    "        # computes the prediction error and its derivative\n",
    "        loss = np.mean((pred - y) ** 2)  # MSE loss\n",
    "        gradient_weight = np.mean((pred - y) * 2) * x  # MSE loss의 gradient\n",
    "        gradient_bias = np.mean((pred - y) * 2)\n",
    "        return loss, gradient_weight, gradient_bias\n",
    "\n",
    "    def update_parameters(self, gradient_weight, gradient_bias):\n",
    "        self.weight -= gradient_weight.mean() * self.lr\n",
    "        self.bias -= gradient_bias * self.lr\n",
    "\n",
    "    def predict(self, x_test):\n",
    "        # 학습이 끝난 모델의 출력을 얻기 위한 함수\n",
    "        # computes the predictions with forward()\n",
    "        predictions = [self.forward(x_) for x_ in x_test]\n",
    "        return predictions  # list type"
   ]
  },
  {
   "cell_type": "markdown",
   "metadata": {},
   "source": [
    "### 1-4) 학습 및 결과 시각화\n",
    "**수정하지 마세요.**\n",
    "\n",
    "작성한 `Linear` class와 Trainset을 이용해 1차 선형 회귀 모델을 학습시키고 학습된 모델의 평가 결과를 시각화합니다."
   ]
  },
  {
   "cell_type": "code",
   "execution_count": 9,
   "metadata": {},
   "outputs": [
    {
     "name": "stdout",
     "output_type": "stream",
     "text": [
      "weight: 0.532884\n",
      "bias: 0.147872\n"
     ]
    }
   ],
   "source": [
    "# Define a model\n",
    "linear = Linear(batch_size=1)  #  위에서 구현한 Linear regression model 모델 생성\n",
    "\n",
    "# Training\n",
    "linear.fit(X_train, y_train, 100)  #  100 epoch 학습\n",
    "\n",
    "# Print weight and bias\n",
    "print(f\"weight: {linear.weight:0.6f}\")\n",
    "print(f\"bias: {linear.bias:0.6f}\")"
   ]
  },
  {
   "cell_type": "code",
   "execution_count": 10,
   "metadata": {},
   "outputs": [
    {
     "data": {
      "image/png": "[encoded data removed]",
      "text/plain": [
       "<Figure size 640x480 with 1 Axes>"
      ]
     },
     "metadata": {},
     "output_type": "display_data"
    }
   ],
   "source": [
    "def plot(model):\n",
    "    # Range of X\n",
    "    x = np.linspace(-20, 20, 50)\n",
    "\n",
    "    # Plotting model\n",
    "    plt.plot(x, model.forward(x), label=\"Prediction\")\n",
    "\n",
    "    # Plotting test data points\n",
    "    plt.scatter(\n",
    "        [i for idx, i in enumerate(X_test)],\n",
    "        [i for idx, i in enumerate(y_test)],\n",
    "        label=\"Test\",\n",
    "        marker=\"x\",\n",
    "        color=\"r\",\n",
    "    )\n",
    "\n",
    "    # Calculate MSE (Mean Square Error) of test data\n",
    "    y_pred = model.predict(X_test)\n",
    "    mse = sum([(label - pred) ** 2 for pred, label in zip(y_pred, y_test)]) / len(\n",
    "        X_test\n",
    "    )\n",
    "\n",
    "    plt.title(f\"Data points (MSE: {mse:0.3f})\")\n",
    "    plt.xlabel(\"x\")\n",
    "    plt.ylabel(\"y\")\n",
    "    plt.ylim([-20, 20])\n",
    "    plt.legend()\n",
    "    plt.show()\n",
    "\n",
    "\n",
    "plot(linear)"
   ]
  },
  {
   "cell_type": "markdown",
   "metadata": {},
   "source": [
    "## S2. Polynomial Regression Model\n",
    "\n",
    "1차 Linear Regression Model은 1차 Polynomial Regression Model과 동일하다고 볼 수 있습니다. \n",
    "\n",
    "S2에서는 입력 파라메터에 따라 1차 이상의 차수를 가진 Polynomial Regression Model을 반환하는 `Polynomial` class를 구현합니다.\n",
    "\n",
    "S1에서 작성된 `Linear` class를 참고하여 구현하시면 됩니다.\n",
    "\n",
    "`Polynomial` class는 다음 함수들로 이루어져 있습니다.\n",
    "- `__init__` 생성자에서는 model의 weights와 bias를 초기화합니다.\n",
    "- `calc`는 계수와 차수, 데이터를 입력받아 각 항을 계산합니다.\n",
    "- `calc_loss_and_gradient`는 input과 output 사이의 MSE loss와 그 gradient를 계산합니다.\n",
    "- `shuffle_datasets`는 데이터셋을 섞는 역할을 합니다.\n",
    "- `forward`에서는 input을 model의 가중치를 이용해서 예측을 수행합니다.\n",
    "- `update_parameters`에서는 계산된 MSE loss와 그 gradient를 입력으로 받아 모델의 가중치를 업데이트 합니다.  \n",
    "(Tip : update_parameters는 딥러닝 라이브러리에서 backward pass로도 불립니다.)\n",
    "- `fit`에서는 model을 학습하는 과정으로 `forward`와 `update_parameters`를 차례로 반복하여 model의 가중치를 업데이트 합니다.\n",
    "- `predict`에서는 들어온 input data를 학습된 가중치를 이용하여 예측하고 결과를 반환합니다.\n",
    "\n",
    "학생분들께서는 `Polynomial` class 내의 함수 중 `forward`과 `update_parameters`을 일부 작성하게 됩니다. "
   ]
  },
  {
   "cell_type": "markdown",
   "metadata": {},
   "source": [
    "### 2-1) Polynomial Regression Model 구현 <직접구현>\n",
    "`<your code>` 부분을 작성하여 class를 완성하세요. **(4점, 각 2점)**\n",
    "\n",
    "단, Feature Normalization은 고려하지 않아도 됩니다."
   ]
  },
  {
   "cell_type": "code",
   "execution_count": 13,
   "metadata": {},
   "outputs": [],
   "source": [
    "\n",
    "class Polynomial():\n",
    "    def __init__(self, dim, batch_size, lr=1e-5):\n",
    "        self.dim = dim\n",
    "        # initialization with a numpy array type\n",
    "        self.weights = np.array([rand() * 0.001 for i in range(self.dim)])\n",
    "        self.bias = 2.5 # initialization\n",
    "        self.lr = lr # learning rate\n",
    "        self.batch_size = batch_size\n",
    "    \n",
    "    def calc(self, x, coeff, degree):\n",
    "        return coeff * x ** degree\n",
    "        \n",
    "    def shuffle_datasets(self, a, b):\n",
    "        assert len(a) == len(b)\n",
    "        p = np.random.permutation(len(a))\n",
    "        return a[p], b[p]\n",
    "        \n",
    "    def fit(self, x, y, epochs):\n",
    "        x_arr = np.array(x)\n",
    "        y_arr = np.array(y)\n",
    "        for e in range(epochs): # epochs 만큼 학습\n",
    "            # shuffle dataset\n",
    "            x, y = self.shuffle_datasets(x_arr, y_arr)\n",
    "\n",
    "            # 배치 크기씩 data 분할\n",
    "            num_batches = len(x) // self.batch_size\n",
    "            remain = len(x) % self.batch_size # batch size 크기의 배수가 아닌 나머지 training example 개수\n",
    "            x = x[remain:] # remain을 제외한 training example만 사용\n",
    "            y = y[remain:]\n",
    "            x = np.array_split(x, num_batches) # 배치 크기씩 데이터 분할\n",
    "            y = np.array_split(y, num_batches)\n",
    "            \n",
    "            # 각 배치마다 파라미터 업데이트\n",
    "            for batch_x_y in zip(x, y): # 배치 하나씩 학습\n",
    "                batch_x, batch_y = batch_x_y\n",
    "\n",
    "                pred = self.forward(batch_x) \n",
    "                loss, gradient_weight, gradient_bias = self.calc_loss_and_gradient(\n",
    "                    pred, batch_y, batch_x\n",
    "                )\n",
    "\n",
    "                # parameter update는 backward pass로도 불림\n",
    "                self.update_parameters(gradient_weight, gradient_bias)\n",
    "\n",
    "    def predict(self, x):\n",
    "        # computes the predictions with forward()\n",
    "        predictions = [self.forward(x_) for x_ in x]\n",
    "        return predictions # list type\n",
    "\n",
    "    def forward(self, x):\n",
    "        # computes the weighted sum of Polynomial regression model\n",
    "        # Hint : sum([self.calc(...) for i in ...]) + self.bias \n",
    "        prediction = sum([self.calc(x,self.weights[i],i+1) for i in range(self.dim)]) + self.bias # <your code> \n",
    "        return prediction                                                                         # coeff랑 degree 갯수가 같으니깐 같이 그냥 상수로 만들어서 넣어주는게 속편하다.\n",
    "                                                                                                  # x가 스칼라면 스칼라값, ndarray면 ndarray로 나온다. \n",
    "    def calc_loss_and_gradient(self, pred, y, x):\n",
    "        # computes the prediction error and its derivative\n",
    "        loss = np.mean((pred - y) ** 2) # MSE loss\n",
    "        # Hint : forward 문에서 작성했던 것과 유사한 형태의 list로 작성하세요.\n",
    "        gradient_weight = []\n",
    "        for i in range(self.dim):                                     \n",
    "            grad_dimension = np.mean((pred - y) * 2) * x ** (i+1)  # 이렇게 하면 2차원 리스트\n",
    "            gradient_weight.append(grad_dimension) \n",
    "        # <your code>\n",
    "        gradient_bias = np.mean((pred - y) * 2 * x ** [(i + 1) for i in range(self.dim)])\n",
    "        return loss, gradient_weight, gradient_bias\n",
    "\n",
    "    def update_parameters(self, gradient_weight, gradient_bias):\n",
    "        self.weights -= np.array(gradient_weight).mean(1).reshape(self.dim) * self.lr\n",
    "        self.bias -= gradient_bias * self.lr"
   ]
  },
  {
   "cell_type": "markdown",
   "metadata": {},
   "source": [
    "**Q. 강의 내용과 연관지어 본인이 작성한 코드의 내용을 설명하세요. (미 작성시 과제 점수 감점)**  \n",
    "forward 함수는 예측값 즉, feature가 입력값으로 들어갔을 때 예측값 pred를 출력하는 함수다.\n",
    "입력값은 ndarray타입이나 실수로 들어오고, 다항함수모델이므로 하나의 feature에 대해 각각 가중치마다 거듭제곱을 해서 마지막에 sum으로 항들을 연결해준다. \n",
    "입력값 x가 ndarray이므로 numpy연산에 의해 ndarray의 각 element에 대하여 위 연산들이 이루지고 다시 각각 배열에 담아서 prediction 배열으로 반환. \n",
    "\n",
    "clac_lss-and-gradient에서는 MSE 방식으로 오차함수를 구한다.\n",
    "여기서 MSE LOSS function이 최소가 나오게 하는 weights를 찾아야하므로 \n",
    "gradeint는 mse loss를 weights에 대해서 미분 \n",
    "미분된 수식을 이용해서 dimension 별로 값을 추가해서 배열에 넣어준다. \n",
    "\n",
    "나중에 update_parameters함수에서 mean(1)을 사용해서 각각 weight에 더해줄 평균값을 구하고 \n",
    "lr만큼의 step_size로 weights를 업데이트한다. "
   ]
  },
  {
   "cell_type": "markdown",
   "metadata": {},
   "source": [
    "### 2-2) 다항 회귀 모델 학습 및 결과 시각화\n",
    "**수정하지 마세요.**\n",
    "\n",
    "작성한 `Polynomial` class와 Trainset을 이용해 2차 다항 회귀 모델을 학습시키고 학습된 모델의 평가 결과를 시각화합니다."
   ]
  },
  {
   "cell_type": "code",
   "execution_count": 14,
   "metadata": {},
   "outputs": [
    {
     "name": "stdout",
     "output_type": "stream",
     "text": [
      "weight_1: 0.299830\n",
      "weight_2: -0.019553\n",
      "bias: 2.639321\n"
     ]
    }
   ],
   "source": [
    "# Model define and training\n",
    "\n",
    "# Define a model\n",
    "polynomial = Polynomial(\n",
    "    dim=2, batch_size=1, lr=1e-6\n",
    ")  #  위에서 구현한 Polynomial regression model 모델 정의\n",
    "\n",
    "# Training\n",
    "polynomial.fit(X_train, y_train, 100)  #  100 epoch 학습\n",
    "\n",
    "# Print weight and bias\n",
    "for i, weight in enumerate(polynomial.weights):\n",
    "    print(f\"weight_{i+1}: {weight:0.6f}\")\n",
    "print(f\"bias: {polynomial.bias:0.6f}\")"
   ]
  },
  {
   "cell_type": "code",
   "execution_count": 15,
   "metadata": {},
   "outputs": [
    {
     "data": {
      "image/png": "[encoded data removed]",
      "text/plain": [
       "<Figure size 640x480 with 1 Axes>"
      ]
     },
     "metadata": {},
     "output_type": "display_data"
    }
   ],
   "source": [
    "# Plots polynomial and data points\n",
    "plot(polynomial)"
   ]
  },
  {
   "cell_type": "markdown",
   "metadata": {},
   "source": [
    "### 2-3) 다항 회귀 모델 분석 \n",
    "\n",
    "2-2)를 수정하여 1차부터 4차 다항 회귀 모델 중 주어진 데이터셋을 가장 잘 표현하는 차수의 모델 1개를 학습하고 결과를 시각화 하세요. **(4점, 부분점수 없음)**\n",
    "\n",
    "- 2-2) 코드를 참고하여 작성합니다. (learning rate, dim, batch size, training epoch 등 변경)\n",
    "- 다양한 시도를 통해 스스로 최적의 차수와 학습 조건을 찾아보세요. \n",
    "- 제출 시 MSE 기준 3 이하일 경우 정답으로 채점\n",
    "- MSE 값이 nan 값인 경우 learning rate 파라메터를 조정하면 해결할 수 있습니다."
   ]
  },
  {
   "cell_type": "code",
   "execution_count": 36,
   "metadata": {},
   "outputs": [
    {
     "name": "stdout",
     "output_type": "stream",
     "text": [
      "2.97017 sec\n",
      "weight_1: 0.001094\n",
      "weight_2: -0.004091\n",
      "weight_3: 0.001853\n",
      "bias: 2.499337\n"
     ]
    }
   ],
   "source": [
    "# Model define and training\n",
    "# 위에서 구현한 Polynomial regression model 모델 정의\n",
    "import time\n",
    "\n",
    "polynomial_3 = Polynomial(dim=3,batch_size = 1, lr=1.02*1e-8)\n",
    "\n",
    "start = time.time()\n",
    "# Training\n",
    "polynomial_3.fit(X_train, y_train, 1000)\n",
    "end = time.time()\n",
    "\n",
    "print(f\"{end - start:.5f} sec\")\n",
    "\n",
    "# Print weight and bias\n",
    "for i, weight in enumerate(polynomial_3.weights):\n",
    "    print(f\"weight_{i+1}: {weight:0.6f}\")\n",
    "print(f\"bias: {polynomial_3.bias:0.6f}\")"
   ]
  },
  {
   "cell_type": "code",
   "execution_count": 35,
   "metadata": {},
   "outputs": [
    {
     "data": {
      "image/png": "[encoded data removed]",
      "text/plain": [
       "<Figure size 640x480 with 1 Axes>"
      ]
     },
     "metadata": {},
     "output_type": "display_data"
    }
   ],
   "source": [
    "# Plotting polynomial and data points\n",
    "# <your code>\n",
    "\n",
    "# Range of X\n",
    "x = np.linspace(-20, 20, 50)\n",
    "\n",
    "# Plotting polynomial\n",
    "plt.plot(x, polynomial_3.forward(x), label='Predicted Model of Polynomial_3')\n",
    "\n",
    "# Plotting test data points\n",
    "plt.scatter([i for idx, i in enumerate(X_test)], \n",
    "            [i for idx, i in enumerate(y_test)],\n",
    "            label='Test', marker='x', color='r')\n",
    "\n",
    "# Calculate MSE (Mean Square Error) of test data\n",
    "mse = sum([(y - polynomial_3.forward(x))** 2 for x, y in zip(X_test, y_test)]) / len(X_test)\n",
    "\n",
    "plt.title(f'Data points (MSE: {mse:0.3f})')\n",
    "plt.xlabel('x')\n",
    "plt.ylabel('y')\n",
    "plt.ylim([-20, 20])\n",
    "plt.legend()\n",
    "plt.show()"
   ]
  },
  {
   "cell_type": "markdown",
   "metadata": {},
   "source": [
    "## S3. Discussion"
   ]
  },
  {
   "cell_type": "markdown",
   "metadata": {},
   "source": [
    "**1) 본 실습에서 구현한 `Polynomial` class는 Feature Normalization을 사용하지 않았습니다.**\n",
    "\n",
    "1. 본 실습에서의 상황을 예시로 Feature Normalization을 수행하는 방법을 설명하고,\n",
    "\n",
    "\n",
    "2. 수업 시간에 배운 내용을 기반으로 Feature Normalization을 수행했을 때의 효과에 대해서 논하세요.\n",
    "\n",
    "\n"
   ]
  },
  {
   "cell_type": "markdown",
   "metadata": {},
   "source": [
    "[답변작성]:\n",
    "1. Featrue Nomalization = Range Nomalization + Mean Normalization  \n",
    "   즉, Feature들의 범위를 비슷하게 scaling 해주고, 그 범위의 중심을 mean을 맞춰주는면 됩니다. \n",
    "   Mean Normalization은 데이터 값에서 중심값을 빼주어 수행해줄 수 있고, \n",
    "   Range Nomlaiztion은 적당한 값으로 나누어서 수행해줄 수 있습니다.\n",
    "   예를 들어 x1의 범위가 200 < x1 < 300 이고 x2의 범위가 10 < x < 20 인경우가 있습니다.\n",
    "   그러면 x1' = (x1-250)/50 x2' = (x2 - 15)/5 이렇게 스케일링해주어서 -1 < x1 < 1, -1 < x2 < 1 이렇게 해줄 수 있습니다. \n",
    "\n",
    "3. Feature Normalization을 통해서 학습에 걸리는 시간을 줄일 수 있습니다.\n",
    "   Featrue range가 너무 다르게 되면 최솟값으로 다가갈 때 방향이 너무 많이 바뀌면서\n",
    "   시간이 오래걸리는 경향이 있습니다.\n",
    "   그러나 Feature Nomalization을 통하여 feature range값을 맞춰주면 더 빠르게\n",
    "   일정한 방향으로 최솟값으로 다가가서 더 빠른 수렴속도를 보여줍니다. \n",
    "   "
   ]
  },
  {
   "cell_type": "markdown",
   "metadata": {},
   "source": [
    "---\n"
   ]
  },
  {
   "cell_type": "markdown",
   "metadata": {},
   "source": [
    "**2) 배치 크기에 따라 full batch, minibatch, online mode training을 할 수 있습니다. Polynomial class에서 각 mode로 학습해 본 다음, 관찰한 모델의 성능 및 학습 속도 등 차이를 자유롭게 설명하세요.**\n",
    "\n"
   ]
  },
  {
   "attachments": {},
   "cell_type": "markdown",
   "metadata": {},
   "source": [
    "[답변작성]:\n",
    "\n",
    "full batch는 한번에 학습을 시키니 학습속도 면에서는 가장 빠르지만 큰 용량의 메모리가 필요합니다. \n",
    "그리고 gpu등의 자원이 있다면 충분히 활용할 수 있게 됩니다. \n",
    "online mode training의 경우에는 한번에 하나의 자료씩만 사용해서 parameter를 업데이트 시키기 때문에 \n",
    "업데이트 속도는 빠르지만 결국 최종 학습 시간은 느려지게 됩니다. 그리고 gpu등의 자원을 충분히 활용할 수 없다는 단점도 생깁니다. \n",
    "mini batch mode는 적당한 갯수의 training set으로 업데이트를 진행하는 방식으로 full batch mode와 online mode의 중간형태입니다. \n",
    "시간과 성능면에서도 각각의 장단점을 중간정도로 가지게 됩니다. \n",
    "   "
   ]
  },
  {
   "cell_type": "code",
   "execution_count": null,
   "metadata": {},
   "outputs": [],
   "source": []
  }
 ],
 "metadata": {
  "kernelspec": {
   "display_name": "Python 3 (ipykernel)",
   "language": "python",
   "name": "python3"
  },
  "language_info": {
   "codemirror_mode": {
    "name": "ipython",
    "version": 3
   },
   "file_extension": ".py",
   "mimetype": "text/x-python",
   "name": "python",
   "nbconvert_exporter": "python",
   "pygments_lexer": "ipython3",
   "version": "3.8.19"
  },
  "vscode": {
   "interpreter": {
    "hash": "256620b0ae7f0e8b516da9d154aa18bac4f8ddc9e8af5b459abc95538e70fe29"
   }
  }
 },
 "nbformat": 4,
 "nbformat_minor": 4
}
